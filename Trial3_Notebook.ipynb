{
 "cells": [
  {
   "cell_type": "markdown",
   "metadata": {
    "id": "9owHpJecwq7g"
   },
   "source": [
    "# Fighting Fire with Data - Starter Notebook\n",
    "\n",
    "This notebook should help you get started with the 'Fighting Fire with Data' hackathon on Zindi. In it we cover:\n",
    "- Loading the data\n",
    "- Simple EDA and an example of feature enginnering\n",
    "- Suggestions for validation split\n",
    "- Creating a simple model\n",
    "- Making a submission\n",
    "- Some tips for improving your score\n"
   ]
  },
  {
   "cell_type": "markdown",
   "metadata": {
    "id": "xKcJuq7bxof_"
   },
   "source": [
    "# Setup\n",
    "\n",
    "Make sure the files are available in the current directory. On Colab, upload them using the files tab on the left."
   ]
  },
  {
   "cell_type": "code",
   "execution_count": 26,
   "metadata": {
    "colab": {
     "base_uri": "https://localhost:8080/"
    },
    "id": "lwa4zIHBGh41",
    "outputId": "20decafc-8e1a-4f0c-a6d6-4880d3e12ea7"
   },
   "outputs": [
    {
     "name": "stderr",
     "output_type": "stream",
     "text": [
      "'ls' is not recognized as an internal or external command,\n",
      "operable program or batch file.\n"
     ]
    }
   ],
   "source": [
    "!ls *.csv # List files to check train, ss and test are present"
   ]
  },
  {
   "cell_type": "code",
   "execution_count": 27,
   "metadata": {
    "id": "2lLzfdilxfsY"
   },
   "outputs": [],
   "source": [
    "import pandas as pd\n",
    "from sklearn.linear_model import RidgeCV\n",
    "from sklearn.ensemble import RandomForestRegressor\n",
    "from sklearn.metrics import mean_squared_error, r2_score\n",
    "from matplotlib import pyplot as plt"
   ]
  },
  {
   "cell_type": "code",
   "execution_count": 28,
   "metadata": {
    "colab": {
     "base_uri": "https://localhost:8080/",
     "height": 1000
    },
    "id": "_xLOsPcFSwOz",
    "outputId": "cf36a840-7b4d-4dcc-b927-9648917ba8e6"
   },
   "outputs": [
    {
     "data": {
      "text/html": [
       "<div>\n",
       "<style scoped>\n",
       "    .dataframe tbody tr th:only-of-type {\n",
       "        vertical-align: middle;\n",
       "    }\n",
       "\n",
       "    .dataframe tbody tr th {\n",
       "        vertical-align: top;\n",
       "    }\n",
       "\n",
       "    .dataframe thead th {\n",
       "        text-align: right;\n",
       "    }\n",
       "</style>\n",
       "<table border=\"1\" class=\"dataframe\">\n",
       "  <thead>\n",
       "    <tr style=\"text-align: right;\">\n",
       "      <th></th>\n",
       "      <th>Variable</th>\n",
       "      <th>Description</th>\n",
       "    </tr>\n",
       "  </thead>\n",
       "  <tbody>\n",
       "    <tr>\n",
       "      <th>0</th>\n",
       "      <td>ID</td>\n",
       "      <td>The IDs take the form of [area ID]_yyyy-mm-dd....</td>\n",
       "    </tr>\n",
       "    <tr>\n",
       "      <th>1</th>\n",
       "      <td>area</td>\n",
       "      <td>Area ID</td>\n",
       "    </tr>\n",
       "    <tr>\n",
       "      <th>2</th>\n",
       "      <td>date</td>\n",
       "      <td>The date that the data is aggregated over</td>\n",
       "    </tr>\n",
       "    <tr>\n",
       "      <th>3</th>\n",
       "      <td>lat</td>\n",
       "      <td>Latitude of the center of the area</td>\n",
       "    </tr>\n",
       "    <tr>\n",
       "      <th>4</th>\n",
       "      <td>lon</td>\n",
       "      <td>Longitude of the center of the area</td>\n",
       "    </tr>\n",
       "    <tr>\n",
       "      <th>5</th>\n",
       "      <td>burn_area</td>\n",
       "      <td>Percentage of the area burnt</td>\n",
       "    </tr>\n",
       "    <tr>\n",
       "      <th>6</th>\n",
       "      <td>climate_aet</td>\n",
       "      <td>Actual evapotranspiration, derived using a one...</td>\n",
       "    </tr>\n",
       "    <tr>\n",
       "      <th>7</th>\n",
       "      <td>climate_def</td>\n",
       "      <td>Climate water deficit, derived using a one-dim...</td>\n",
       "    </tr>\n",
       "    <tr>\n",
       "      <th>8</th>\n",
       "      <td>climate_pdsi</td>\n",
       "      <td>Palmer Drought Severity Index</td>\n",
       "    </tr>\n",
       "    <tr>\n",
       "      <th>9</th>\n",
       "      <td>climate_pet</td>\n",
       "      <td>Reference evapotranspiration (ASCE Penman-Mont...</td>\n",
       "    </tr>\n",
       "    <tr>\n",
       "      <th>10</th>\n",
       "      <td>climate_pr</td>\n",
       "      <td>Precipitation accumulation</td>\n",
       "    </tr>\n",
       "    <tr>\n",
       "      <th>11</th>\n",
       "      <td>climate_ro</td>\n",
       "      <td>Runoff, derived using a one-dimensional soil w...</td>\n",
       "    </tr>\n",
       "    <tr>\n",
       "      <th>12</th>\n",
       "      <td>climate_soil</td>\n",
       "      <td>Soil moisture, derived using a one-dimensional...</td>\n",
       "    </tr>\n",
       "    <tr>\n",
       "      <th>13</th>\n",
       "      <td>climate_srad</td>\n",
       "      <td>Downward surface shortwave radiation</td>\n",
       "    </tr>\n",
       "    <tr>\n",
       "      <th>14</th>\n",
       "      <td>climate_swe</td>\n",
       "      <td>Snow water equivalent, derived using a one-dim...</td>\n",
       "    </tr>\n",
       "    <tr>\n",
       "      <th>15</th>\n",
       "      <td>climate_tmmn</td>\n",
       "      <td>Minimum temperature</td>\n",
       "    </tr>\n",
       "    <tr>\n",
       "      <th>16</th>\n",
       "      <td>climate_tmmx</td>\n",
       "      <td>Maximum temperature</td>\n",
       "    </tr>\n",
       "    <tr>\n",
       "      <th>17</th>\n",
       "      <td>climate_vap</td>\n",
       "      <td>Vapor pressure</td>\n",
       "    </tr>\n",
       "    <tr>\n",
       "      <th>18</th>\n",
       "      <td>climate_vpd</td>\n",
       "      <td>Vapor pressure deficit</td>\n",
       "    </tr>\n",
       "    <tr>\n",
       "      <th>19</th>\n",
       "      <td>climate_vs</td>\n",
       "      <td>Wind-speed at 10m</td>\n",
       "    </tr>\n",
       "    <tr>\n",
       "      <th>20</th>\n",
       "      <td>elevation</td>\n",
       "      <td>Land elevation</td>\n",
       "    </tr>\n",
       "    <tr>\n",
       "      <th>21</th>\n",
       "      <td>landcover_0</td>\n",
       "      <td>Water Bodies: at least 60% of area is covered ...</td>\n",
       "    </tr>\n",
       "    <tr>\n",
       "      <th>22</th>\n",
       "      <td>landcover_1</td>\n",
       "      <td>Evergreen Needleleaf Vegetation: dominated by ...</td>\n",
       "    </tr>\n",
       "    <tr>\n",
       "      <th>23</th>\n",
       "      <td>landcover_2</td>\n",
       "      <td>Evergreen Broadleaf Vegetation: dominated by e...</td>\n",
       "    </tr>\n",
       "    <tr>\n",
       "      <th>24</th>\n",
       "      <td>landcover_3</td>\n",
       "      <td>Deciduous Needleleaf Vegetation: dominated by ...</td>\n",
       "    </tr>\n",
       "    <tr>\n",
       "      <th>25</th>\n",
       "      <td>landcover_4</td>\n",
       "      <td>Deciduous Broadleaf Vegetation: dominated by d...</td>\n",
       "    </tr>\n",
       "    <tr>\n",
       "      <th>26</th>\n",
       "      <td>landcover_5</td>\n",
       "      <td>Annual Broadleaf Vegetation: dominated by herb...</td>\n",
       "    </tr>\n",
       "    <tr>\n",
       "      <th>27</th>\n",
       "      <td>landcover_6</td>\n",
       "      <td>Annual Grass Vegetation: dominated by herbaceo...</td>\n",
       "    </tr>\n",
       "    <tr>\n",
       "      <th>28</th>\n",
       "      <td>landcover_7</td>\n",
       "      <td>Non-Vegetated Lands: at least 60% of area is n...</td>\n",
       "    </tr>\n",
       "    <tr>\n",
       "      <th>29</th>\n",
       "      <td>landcover_8</td>\n",
       "      <td>Urban and Built-up Lands: at least 30% impervi...</td>\n",
       "    </tr>\n",
       "    <tr>\n",
       "      <th>30</th>\n",
       "      <td>precipitation</td>\n",
       "      <td>Merged microwave/IR precipitation estimate</td>\n",
       "    </tr>\n",
       "  </tbody>\n",
       "</table>\n",
       "</div>"
      ],
      "text/plain": [
       "         Variable                                        Description\n",
       "0              ID  The IDs take the form of [area ID]_yyyy-mm-dd....\n",
       "1            area                                            Area ID\n",
       "2            date          The date that the data is aggregated over\n",
       "3             lat                 Latitude of the center of the area\n",
       "4             lon                Longitude of the center of the area\n",
       "5       burn_area                       Percentage of the area burnt\n",
       "6     climate_aet  Actual evapotranspiration, derived using a one...\n",
       "7     climate_def  Climate water deficit, derived using a one-dim...\n",
       "8    climate_pdsi                      Palmer Drought Severity Index\n",
       "9     climate_pet  Reference evapotranspiration (ASCE Penman-Mont...\n",
       "10     climate_pr                         Precipitation accumulation\n",
       "11     climate_ro  Runoff, derived using a one-dimensional soil w...\n",
       "12   climate_soil  Soil moisture, derived using a one-dimensional...\n",
       "13   climate_srad               Downward surface shortwave radiation\n",
       "14    climate_swe  Snow water equivalent, derived using a one-dim...\n",
       "15   climate_tmmn                                Minimum temperature\n",
       "16   climate_tmmx                                Maximum temperature\n",
       "17    climate_vap                                     Vapor pressure\n",
       "18    climate_vpd                             Vapor pressure deficit\n",
       "19     climate_vs                                  Wind-speed at 10m\n",
       "20      elevation                                     Land elevation\n",
       "21    landcover_0  Water Bodies: at least 60% of area is covered ...\n",
       "22    landcover_1  Evergreen Needleleaf Vegetation: dominated by ...\n",
       "23    landcover_2  Evergreen Broadleaf Vegetation: dominated by e...\n",
       "24    landcover_3  Deciduous Needleleaf Vegetation: dominated by ...\n",
       "25    landcover_4  Deciduous Broadleaf Vegetation: dominated by d...\n",
       "26    landcover_5  Annual Broadleaf Vegetation: dominated by herb...\n",
       "27    landcover_6  Annual Grass Vegetation: dominated by herbaceo...\n",
       "28    landcover_7  Non-Vegetated Lands: at least 60% of area is n...\n",
       "29    landcover_8  Urban and Built-up Lands: at least 30% impervi...\n",
       "30  precipitation         Merged microwave/IR precipitation estimate"
      ]
     },
     "execution_count": 28,
     "metadata": {},
     "output_type": "execute_result"
    }
   ],
   "source": [
    "# The training data.\n",
    "var_defs = pd.read_csv(\"https://raw.githubusercontent.com/GKamundia/Zindi/main/Wildfire%20Prediction%20Challenge/variable_definitions.csv\")\n",
    "var_defs  "
   ]
  },
  {
   "cell_type": "code",
   "execution_count": 29,
   "metadata": {
    "colab": {
     "base_uri": "https://localhost:8080/",
     "height": 342
    },
    "id": "uaQM7lJHxRoe",
    "outputId": "fa6bec5b-48cb-4539-cac7-4c6b02780937"
   },
   "outputs": [
    {
     "data": {
      "text/html": [
       "<div>\n",
       "<style scoped>\n",
       "    .dataframe tbody tr th:only-of-type {\n",
       "        vertical-align: middle;\n",
       "    }\n",
       "\n",
       "    .dataframe tbody tr th {\n",
       "        vertical-align: top;\n",
       "    }\n",
       "\n",
       "    .dataframe thead th {\n",
       "        text-align: right;\n",
       "    }\n",
       "</style>\n",
       "<table border=\"1\" class=\"dataframe\">\n",
       "  <thead>\n",
       "    <tr style=\"text-align: right;\">\n",
       "      <th></th>\n",
       "      <th>ID</th>\n",
       "      <th>lat</th>\n",
       "      <th>lon</th>\n",
       "      <th>burn_area</th>\n",
       "      <th>climate_aet</th>\n",
       "      <th>climate_def</th>\n",
       "      <th>climate_pdsi</th>\n",
       "      <th>climate_pet</th>\n",
       "      <th>climate_pr</th>\n",
       "      <th>climate_ro</th>\n",
       "      <th>...</th>\n",
       "      <th>landcover_0</th>\n",
       "      <th>landcover_1</th>\n",
       "      <th>landcover_2</th>\n",
       "      <th>landcover_3</th>\n",
       "      <th>landcover_4</th>\n",
       "      <th>landcover_5</th>\n",
       "      <th>landcover_6</th>\n",
       "      <th>landcover_7</th>\n",
       "      <th>landcover_8</th>\n",
       "      <th>precipitation</th>\n",
       "    </tr>\n",
       "  </thead>\n",
       "  <tbody>\n",
       "    <tr>\n",
       "      <th>0</th>\n",
       "      <td>0_2001-01-01</td>\n",
       "      <td>-15.858835</td>\n",
       "      <td>29.237029</td>\n",
       "      <td>0.0</td>\n",
       "      <td>1195</td>\n",
       "      <td>0</td>\n",
       "      <td>263</td>\n",
       "      <td>1195</td>\n",
       "      <td>206</td>\n",
       "      <td>10</td>\n",
       "      <td>...</td>\n",
       "      <td>0.0</td>\n",
       "      <td>0.0</td>\n",
       "      <td>0.018654</td>\n",
       "      <td>0.0</td>\n",
       "      <td>0.714446</td>\n",
       "      <td>0.012174</td>\n",
       "      <td>0.244890</td>\n",
       "      <td>0.009836</td>\n",
       "      <td>0.0</td>\n",
       "      <td>0.256932</td>\n",
       "    </tr>\n",
       "    <tr>\n",
       "      <th>1</th>\n",
       "      <td>1_2001-01-01</td>\n",
       "      <td>-15.858835</td>\n",
       "      <td>29.487029</td>\n",
       "      <td>0.0</td>\n",
       "      <td>1196</td>\n",
       "      <td>0</td>\n",
       "      <td>232</td>\n",
       "      <td>1196</td>\n",
       "      <td>201</td>\n",
       "      <td>10</td>\n",
       "      <td>...</td>\n",
       "      <td>0.0</td>\n",
       "      <td>0.0</td>\n",
       "      <td>0.000000</td>\n",
       "      <td>0.0</td>\n",
       "      <td>0.654783</td>\n",
       "      <td>0.000095</td>\n",
       "      <td>0.345121</td>\n",
       "      <td>0.000000</td>\n",
       "      <td>0.0</td>\n",
       "      <td>0.273093</td>\n",
       "    </tr>\n",
       "    <tr>\n",
       "      <th>2</th>\n",
       "      <td>2_2001-01-01</td>\n",
       "      <td>-15.858835</td>\n",
       "      <td>29.737029</td>\n",
       "      <td>0.0</td>\n",
       "      <td>1190</td>\n",
       "      <td>0</td>\n",
       "      <td>314</td>\n",
       "      <td>1190</td>\n",
       "      <td>192</td>\n",
       "      <td>10</td>\n",
       "      <td>...</td>\n",
       "      <td>0.0</td>\n",
       "      <td>0.0</td>\n",
       "      <td>0.000000</td>\n",
       "      <td>0.0</td>\n",
       "      <td>0.516421</td>\n",
       "      <td>0.000000</td>\n",
       "      <td>0.483579</td>\n",
       "      <td>0.000000</td>\n",
       "      <td>0.0</td>\n",
       "      <td>0.285109</td>\n",
       "    </tr>\n",
       "    <tr>\n",
       "      <th>3</th>\n",
       "      <td>3_2001-01-01</td>\n",
       "      <td>-15.858835</td>\n",
       "      <td>29.987029</td>\n",
       "      <td>0.0</td>\n",
       "      <td>1144</td>\n",
       "      <td>0</td>\n",
       "      <td>321</td>\n",
       "      <td>1144</td>\n",
       "      <td>186</td>\n",
       "      <td>66</td>\n",
       "      <td>...</td>\n",
       "      <td>0.0</td>\n",
       "      <td>0.0</td>\n",
       "      <td>0.000000</td>\n",
       "      <td>0.0</td>\n",
       "      <td>0.299000</td>\n",
       "      <td>0.163902</td>\n",
       "      <td>0.537098</td>\n",
       "      <td>0.000000</td>\n",
       "      <td>0.0</td>\n",
       "      <td>0.298418</td>\n",
       "    </tr>\n",
       "    <tr>\n",
       "      <th>4</th>\n",
       "      <td>4_2001-01-01</td>\n",
       "      <td>-15.858835</td>\n",
       "      <td>30.237029</td>\n",
       "      <td>0.0</td>\n",
       "      <td>1187</td>\n",
       "      <td>0</td>\n",
       "      <td>413</td>\n",
       "      <td>1187</td>\n",
       "      <td>186</td>\n",
       "      <td>9</td>\n",
       "      <td>...</td>\n",
       "      <td>0.0</td>\n",
       "      <td>0.0</td>\n",
       "      <td>0.000000</td>\n",
       "      <td>0.0</td>\n",
       "      <td>0.277392</td>\n",
       "      <td>0.067742</td>\n",
       "      <td>0.654866</td>\n",
       "      <td>0.000000</td>\n",
       "      <td>0.0</td>\n",
       "      <td>0.315621</td>\n",
       "    </tr>\n",
       "  </tbody>\n",
       "</table>\n",
       "<p>5 rows × 29 columns</p>\n",
       "</div>"
      ],
      "text/plain": [
       "             ID        lat        lon  burn_area  climate_aet  climate_def  \\\n",
       "0  0_2001-01-01 -15.858835  29.237029        0.0         1195            0   \n",
       "1  1_2001-01-01 -15.858835  29.487029        0.0         1196            0   \n",
       "2  2_2001-01-01 -15.858835  29.737029        0.0         1190            0   \n",
       "3  3_2001-01-01 -15.858835  29.987029        0.0         1144            0   \n",
       "4  4_2001-01-01 -15.858835  30.237029        0.0         1187            0   \n",
       "\n",
       "   climate_pdsi  climate_pet  climate_pr  climate_ro  ...  landcover_0  \\\n",
       "0           263         1195         206          10  ...          0.0   \n",
       "1           232         1196         201          10  ...          0.0   \n",
       "2           314         1190         192          10  ...          0.0   \n",
       "3           321         1144         186          66  ...          0.0   \n",
       "4           413         1187         186           9  ...          0.0   \n",
       "\n",
       "   landcover_1  landcover_2  landcover_3  landcover_4  landcover_5  \\\n",
       "0          0.0     0.018654          0.0     0.714446     0.012174   \n",
       "1          0.0     0.000000          0.0     0.654783     0.000095   \n",
       "2          0.0     0.000000          0.0     0.516421     0.000000   \n",
       "3          0.0     0.000000          0.0     0.299000     0.163902   \n",
       "4          0.0     0.000000          0.0     0.277392     0.067742   \n",
       "\n",
       "   landcover_6  landcover_7  landcover_8  precipitation  \n",
       "0     0.244890     0.009836          0.0       0.256932  \n",
       "1     0.345121     0.000000          0.0       0.273093  \n",
       "2     0.483579     0.000000          0.0       0.285109  \n",
       "3     0.537098     0.000000          0.0       0.298418  \n",
       "4     0.654866     0.000000          0.0       0.315621  \n",
       "\n",
       "[5 rows x 29 columns]"
      ]
     },
     "execution_count": 29,
     "metadata": {},
     "output_type": "execute_result"
    }
   ],
   "source": [
    "# The training data.\n",
    "train = pd.read_csv('https://raw.githubusercontent.com/GKamundia/Zindi/main/Wildfire%20Prediction%20Challenge/Train.csv')\n",
    "train.head()"
   ]
  },
  {
   "cell_type": "code",
   "execution_count": 30,
   "metadata": {
    "colab": {
     "base_uri": "https://localhost:8080/",
     "height": 147
    },
    "id": "tk1usMx80nQr",
    "outputId": "a3e5987e-5ce3-436e-d6a1-a87bff927191"
   },
   "outputs": [
    {
     "data": {
      "text/html": [
       "<div>\n",
       "<style scoped>\n",
       "    .dataframe tbody tr th:only-of-type {\n",
       "        vertical-align: middle;\n",
       "    }\n",
       "\n",
       "    .dataframe tbody tr th {\n",
       "        vertical-align: top;\n",
       "    }\n",
       "\n",
       "    .dataframe thead th {\n",
       "        text-align: right;\n",
       "    }\n",
       "</style>\n",
       "<table border=\"1\" class=\"dataframe\">\n",
       "  <thead>\n",
       "    <tr style=\"text-align: right;\">\n",
       "      <th></th>\n",
       "      <th>ID</th>\n",
       "      <th>lat</th>\n",
       "      <th>lon</th>\n",
       "      <th>climate_aet</th>\n",
       "      <th>climate_def</th>\n",
       "      <th>climate_pdsi</th>\n",
       "      <th>climate_pet</th>\n",
       "      <th>climate_pr</th>\n",
       "      <th>climate_ro</th>\n",
       "      <th>climate_soil</th>\n",
       "      <th>...</th>\n",
       "      <th>landcover_0</th>\n",
       "      <th>landcover_1</th>\n",
       "      <th>landcover_2</th>\n",
       "      <th>landcover_3</th>\n",
       "      <th>landcover_4</th>\n",
       "      <th>landcover_5</th>\n",
       "      <th>landcover_6</th>\n",
       "      <th>landcover_7</th>\n",
       "      <th>landcover_8</th>\n",
       "      <th>precipitation</th>\n",
       "    </tr>\n",
       "  </thead>\n",
       "  <tbody>\n",
       "    <tr>\n",
       "      <th>0</th>\n",
       "      <td>0_2014-01-01</td>\n",
       "      <td>-15.858835</td>\n",
       "      <td>29.237029</td>\n",
       "      <td>1146</td>\n",
       "      <td>74</td>\n",
       "      <td>-451</td>\n",
       "      <td>1220</td>\n",
       "      <td>120</td>\n",
       "      <td>6</td>\n",
       "      <td>212</td>\n",
       "      <td>...</td>\n",
       "      <td>0.0</td>\n",
       "      <td>0.000615</td>\n",
       "      <td>0.015418</td>\n",
       "      <td>0.0</td>\n",
       "      <td>0.416704</td>\n",
       "      <td>0.023724</td>\n",
       "      <td>0.530016</td>\n",
       "      <td>0.013524</td>\n",
       "      <td>0.0</td>\n",
       "      <td>0.404243</td>\n",
       "    </tr>\n",
       "  </tbody>\n",
       "</table>\n",
       "<p>1 rows × 28 columns</p>\n",
       "</div>"
      ],
      "text/plain": [
       "             ID        lat        lon  climate_aet  climate_def  climate_pdsi  \\\n",
       "0  0_2014-01-01 -15.858835  29.237029         1146           74          -451   \n",
       "\n",
       "   climate_pet  climate_pr  climate_ro  climate_soil  ...  landcover_0  \\\n",
       "0         1220         120           6           212  ...          0.0   \n",
       "\n",
       "   landcover_1  landcover_2  landcover_3  landcover_4  landcover_5  \\\n",
       "0     0.000615     0.015418          0.0     0.416704     0.023724   \n",
       "\n",
       "   landcover_6  landcover_7  landcover_8  precipitation  \n",
       "0     0.530016     0.013524          0.0       0.404243  \n",
       "\n",
       "[1 rows x 28 columns]"
      ]
     },
     "execution_count": 30,
     "metadata": {},
     "output_type": "execute_result"
    }
   ],
   "source": [
    "test = pd.read_csv('https://raw.githubusercontent.com/GKamundia/Zindi/main/Wildfire%20Prediction%20Challenge/Test.csv')\n",
    "test.head(1)"
   ]
  },
  {
   "cell_type": "markdown",
   "metadata": {
    "id": "Tnl3iVg5xqfA"
   },
   "source": [
    "# EDA + Feature Engineering"
   ]
  },
  {
   "cell_type": "code",
   "execution_count": 31,
   "metadata": {
    "colab": {
     "base_uri": "https://localhost:8080/",
     "height": 350
    },
    "id": "1WCG4h0-S_v1",
    "outputId": "675f0a8c-1d02-4712-b844-09ddaf54761f"
   },
   "outputs": [
    {
     "data": {
      "text/html": [
       "<div>\n",
       "<style scoped>\n",
       "    .dataframe tbody tr th:only-of-type {\n",
       "        vertical-align: middle;\n",
       "    }\n",
       "\n",
       "    .dataframe tbody tr th {\n",
       "        vertical-align: top;\n",
       "    }\n",
       "\n",
       "    .dataframe thead th {\n",
       "        text-align: right;\n",
       "    }\n",
       "</style>\n",
       "<table border=\"1\" class=\"dataframe\">\n",
       "  <thead>\n",
       "    <tr style=\"text-align: right;\">\n",
       "      <th></th>\n",
       "      <th>lat</th>\n",
       "      <th>lon</th>\n",
       "      <th>burn_area</th>\n",
       "      <th>climate_aet</th>\n",
       "      <th>climate_def</th>\n",
       "      <th>climate_pdsi</th>\n",
       "      <th>climate_pet</th>\n",
       "      <th>climate_pr</th>\n",
       "      <th>climate_ro</th>\n",
       "      <th>climate_soil</th>\n",
       "      <th>...</th>\n",
       "      <th>landcover_0</th>\n",
       "      <th>landcover_1</th>\n",
       "      <th>landcover_2</th>\n",
       "      <th>landcover_3</th>\n",
       "      <th>landcover_4</th>\n",
       "      <th>landcover_5</th>\n",
       "      <th>landcover_6</th>\n",
       "      <th>landcover_7</th>\n",
       "      <th>landcover_8</th>\n",
       "      <th>precipitation</th>\n",
       "    </tr>\n",
       "  </thead>\n",
       "  <tbody>\n",
       "    <tr>\n",
       "      <th>count</th>\n",
       "      <td>83148.000000</td>\n",
       "      <td>83148.000000</td>\n",
       "      <td>83148.000000</td>\n",
       "      <td>83148.000000</td>\n",
       "      <td>83148.000000</td>\n",
       "      <td>83148.000000</td>\n",
       "      <td>83148.000000</td>\n",
       "      <td>83148.000000</td>\n",
       "      <td>83148.000000</td>\n",
       "      <td>83148.000000</td>\n",
       "      <td>...</td>\n",
       "      <td>83148.000000</td>\n",
       "      <td>83148.000000</td>\n",
       "      <td>83148.000000</td>\n",
       "      <td>8.314800e+04</td>\n",
       "      <td>83148.000000</td>\n",
       "      <td>83148.000000</td>\n",
       "      <td>83148.000000</td>\n",
       "      <td>83148.000000</td>\n",
       "      <td>83148.000000</td>\n",
       "      <td>83148.000000</td>\n",
       "    </tr>\n",
       "    <tr>\n",
       "      <th>mean</th>\n",
       "      <td>-19.014557</td>\n",
       "      <td>29.860856</td>\n",
       "      <td>0.007632</td>\n",
       "      <td>484.491124</td>\n",
       "      <td>828.892721</td>\n",
       "      <td>-30.806237</td>\n",
       "      <td>1313.382992</td>\n",
       "      <td>54.576322</td>\n",
       "      <td>6.215134</td>\n",
       "      <td>305.477919</td>\n",
       "      <td>...</td>\n",
       "      <td>0.006158</td>\n",
       "      <td>0.000017</td>\n",
       "      <td>0.008583</td>\n",
       "      <td>4.066313e-08</td>\n",
       "      <td>0.160628</td>\n",
       "      <td>0.037453</td>\n",
       "      <td>0.785382</td>\n",
       "      <td>0.000354</td>\n",
       "      <td>0.001424</td>\n",
       "      <td>0.078551</td>\n",
       "    </tr>\n",
       "    <tr>\n",
       "      <th>std</th>\n",
       "      <td>1.588444</td>\n",
       "      <td>1.751090</td>\n",
       "      <td>0.029226</td>\n",
       "      <td>470.467480</td>\n",
       "      <td>546.934469</td>\n",
       "      <td>235.802930</td>\n",
       "      <td>315.209838</td>\n",
       "      <td>71.997561</td>\n",
       "      <td>21.480399</td>\n",
       "      <td>400.956123</td>\n",
       "      <td>...</td>\n",
       "      <td>0.053111</td>\n",
       "      <td>0.000141</td>\n",
       "      <td>0.059046</td>\n",
       "      <td>3.535121e-06</td>\n",
       "      <td>0.192957</td>\n",
       "      <td>0.106050</td>\n",
       "      <td>0.233953</td>\n",
       "      <td>0.001773</td>\n",
       "      <td>0.014233</td>\n",
       "      <td>0.104464</td>\n",
       "    </tr>\n",
       "    <tr>\n",
       "      <th>min</th>\n",
       "      <td>-22.358835</td>\n",
       "      <td>25.487029</td>\n",
       "      <td>0.000000</td>\n",
       "      <td>0.000000</td>\n",
       "      <td>0.000000</td>\n",
       "      <td>-563.000000</td>\n",
       "      <td>587.000000</td>\n",
       "      <td>0.000000</td>\n",
       "      <td>0.000000</td>\n",
       "      <td>1.000000</td>\n",
       "      <td>...</td>\n",
       "      <td>0.000000</td>\n",
       "      <td>0.000000</td>\n",
       "      <td>0.000000</td>\n",
       "      <td>0.000000e+00</td>\n",
       "      <td>0.000000</td>\n",
       "      <td>0.000000</td>\n",
       "      <td>0.000019</td>\n",
       "      <td>0.000000</td>\n",
       "      <td>0.000000</td>\n",
       "      <td>0.000000</td>\n",
       "    </tr>\n",
       "    <tr>\n",
       "      <th>25%</th>\n",
       "      <td>-20.358835</td>\n",
       "      <td>28.487029</td>\n",
       "      <td>0.000000</td>\n",
       "      <td>50.000000</td>\n",
       "      <td>375.000000</td>\n",
       "      <td>-212.000000</td>\n",
       "      <td>1081.000000</td>\n",
       "      <td>1.000000</td>\n",
       "      <td>0.000000</td>\n",
       "      <td>70.000000</td>\n",
       "      <td>...</td>\n",
       "      <td>0.000000</td>\n",
       "      <td>0.000000</td>\n",
       "      <td>0.000000</td>\n",
       "      <td>0.000000e+00</td>\n",
       "      <td>0.014993</td>\n",
       "      <td>0.000000</td>\n",
       "      <td>0.655322</td>\n",
       "      <td>0.000000</td>\n",
       "      <td>0.000000</td>\n",
       "      <td>0.002017</td>\n",
       "    </tr>\n",
       "    <tr>\n",
       "      <th>50%</th>\n",
       "      <td>-18.858835</td>\n",
       "      <td>29.987029</td>\n",
       "      <td>0.000000</td>\n",
       "      <td>302.000000</td>\n",
       "      <td>858.000000</td>\n",
       "      <td>-108.000000</td>\n",
       "      <td>1290.000000</td>\n",
       "      <td>22.000000</td>\n",
       "      <td>1.000000</td>\n",
       "      <td>149.000000</td>\n",
       "      <td>...</td>\n",
       "      <td>0.000000</td>\n",
       "      <td>0.000000</td>\n",
       "      <td>0.000000</td>\n",
       "      <td>0.000000e+00</td>\n",
       "      <td>0.076706</td>\n",
       "      <td>0.000139</td>\n",
       "      <td>0.880600</td>\n",
       "      <td>0.000000</td>\n",
       "      <td>0.000000</td>\n",
       "      <td>0.028503</td>\n",
       "    </tr>\n",
       "    <tr>\n",
       "      <th>75%</th>\n",
       "      <td>-17.858835</td>\n",
       "      <td>31.237029</td>\n",
       "      <td>0.000000</td>\n",
       "      <td>931.000000</td>\n",
       "      <td>1211.000000</td>\n",
       "      <td>142.000000</td>\n",
       "      <td>1517.000000</td>\n",
       "      <td>87.000000</td>\n",
       "      <td>4.000000</td>\n",
       "      <td>329.000000</td>\n",
       "      <td>...</td>\n",
       "      <td>0.000000</td>\n",
       "      <td>0.000000</td>\n",
       "      <td>0.000000</td>\n",
       "      <td>0.000000e+00</td>\n",
       "      <td>0.246498</td>\n",
       "      <td>0.015166</td>\n",
       "      <td>0.971209</td>\n",
       "      <td>0.000000</td>\n",
       "      <td>0.000000</td>\n",
       "      <td>0.125500</td>\n",
       "    </tr>\n",
       "    <tr>\n",
       "      <th>max</th>\n",
       "      <td>-15.858835</td>\n",
       "      <td>32.987029</td>\n",
       "      <td>0.843886</td>\n",
       "      <td>1713.000000</td>\n",
       "      <td>2614.000000</td>\n",
       "      <td>851.000000</td>\n",
       "      <td>2620.000000</td>\n",
       "      <td>501.000000</td>\n",
       "      <td>342.000000</td>\n",
       "      <td>3319.000000</td>\n",
       "      <td>...</td>\n",
       "      <td>0.828131</td>\n",
       "      <td>0.004918</td>\n",
       "      <td>0.711603</td>\n",
       "      <td>3.073689e-04</td>\n",
       "      <td>0.981472</td>\n",
       "      <td>0.881323</td>\n",
       "      <td>1.000000</td>\n",
       "      <td>0.016708</td>\n",
       "      <td>0.301823</td>\n",
       "      <td>0.801328</td>\n",
       "    </tr>\n",
       "  </tbody>\n",
       "</table>\n",
       "<p>8 rows × 28 columns</p>\n",
       "</div>"
      ],
      "text/plain": [
       "                lat           lon     burn_area   climate_aet   climate_def  \\\n",
       "count  83148.000000  83148.000000  83148.000000  83148.000000  83148.000000   \n",
       "mean     -19.014557     29.860856      0.007632    484.491124    828.892721   \n",
       "std        1.588444      1.751090      0.029226    470.467480    546.934469   \n",
       "min      -22.358835     25.487029      0.000000      0.000000      0.000000   \n",
       "25%      -20.358835     28.487029      0.000000     50.000000    375.000000   \n",
       "50%      -18.858835     29.987029      0.000000    302.000000    858.000000   \n",
       "75%      -17.858835     31.237029      0.000000    931.000000   1211.000000   \n",
       "max      -15.858835     32.987029      0.843886   1713.000000   2614.000000   \n",
       "\n",
       "       climate_pdsi   climate_pet    climate_pr    climate_ro  climate_soil  \\\n",
       "count  83148.000000  83148.000000  83148.000000  83148.000000  83148.000000   \n",
       "mean     -30.806237   1313.382992     54.576322      6.215134    305.477919   \n",
       "std      235.802930    315.209838     71.997561     21.480399    400.956123   \n",
       "min     -563.000000    587.000000      0.000000      0.000000      1.000000   \n",
       "25%     -212.000000   1081.000000      1.000000      0.000000     70.000000   \n",
       "50%     -108.000000   1290.000000     22.000000      1.000000    149.000000   \n",
       "75%      142.000000   1517.000000     87.000000      4.000000    329.000000   \n",
       "max      851.000000   2620.000000    501.000000    342.000000   3319.000000   \n",
       "\n",
       "       ...   landcover_0   landcover_1   landcover_2   landcover_3  \\\n",
       "count  ...  83148.000000  83148.000000  83148.000000  8.314800e+04   \n",
       "mean   ...      0.006158      0.000017      0.008583  4.066313e-08   \n",
       "std    ...      0.053111      0.000141      0.059046  3.535121e-06   \n",
       "min    ...      0.000000      0.000000      0.000000  0.000000e+00   \n",
       "25%    ...      0.000000      0.000000      0.000000  0.000000e+00   \n",
       "50%    ...      0.000000      0.000000      0.000000  0.000000e+00   \n",
       "75%    ...      0.000000      0.000000      0.000000  0.000000e+00   \n",
       "max    ...      0.828131      0.004918      0.711603  3.073689e-04   \n",
       "\n",
       "        landcover_4   landcover_5   landcover_6   landcover_7   landcover_8  \\\n",
       "count  83148.000000  83148.000000  83148.000000  83148.000000  83148.000000   \n",
       "mean       0.160628      0.037453      0.785382      0.000354      0.001424   \n",
       "std        0.192957      0.106050      0.233953      0.001773      0.014233   \n",
       "min        0.000000      0.000000      0.000019      0.000000      0.000000   \n",
       "25%        0.014993      0.000000      0.655322      0.000000      0.000000   \n",
       "50%        0.076706      0.000139      0.880600      0.000000      0.000000   \n",
       "75%        0.246498      0.015166      0.971209      0.000000      0.000000   \n",
       "max        0.981472      0.881323      1.000000      0.016708      0.301823   \n",
       "\n",
       "       precipitation  \n",
       "count   83148.000000  \n",
       "mean        0.078551  \n",
       "std         0.104464  \n",
       "min         0.000000  \n",
       "25%         0.002017  \n",
       "50%         0.028503  \n",
       "75%         0.125500  \n",
       "max         0.801328  \n",
       "\n",
       "[8 rows x 28 columns]"
      ]
     },
     "execution_count": 31,
     "metadata": {},
     "output_type": "execute_result"
    }
   ],
   "source": [
    "# Look at distribution of each variable\n",
    "train.describe()"
   ]
  },
  {
   "cell_type": "code",
   "execution_count": 32,
   "metadata": {
    "colab": {
     "base_uri": "https://localhost:8080/",
     "height": 538
    },
    "id": "eF2NXmXbSOaW",
    "outputId": "3255ea8f-1d5c-4c1d-b44f-da216bf7eedf"
   },
   "outputs": [
    {
     "data": {
      "text/plain": [
       "<Axes: >"
      ]
     },
     "execution_count": 32,
     "metadata": {},
     "output_type": "execute_result"
    },
    {
     "data": {
      "image/png": "[encoded data removed]",
      "text/plain": [
       "<Figure size 1800x600 with 1 Axes>"
      ]
     },
     "metadata": {},
     "output_type": "display_data"
    }
   ],
   "source": [
    "# Look at correlation with target\n",
    "train.select_dtypes(include=['number']).corr()['burn_area'].sort_values().plot(kind='bar', figsize=(18, 6))"
   ]
  },
  {
   "cell_type": "code",
   "execution_count": 33,
   "metadata": {
    "colab": {
     "base_uri": "https://localhost:8080/",
     "height": 447
    },
    "id": "DLVC6pU91PPE",
    "outputId": "8b554320-1178-40f8-aef1-f02711f954ce"
   },
   "outputs": [
    {
     "data": {
      "text/plain": [
       "<matplotlib.collections.PathCollection at 0x22fd77a28d0>"
      ]
     },
     "execution_count": 33,
     "metadata": {},
     "output_type": "execute_result"
    },
    {
     "data": {
      "image/png": "[encoded data removed]",
      "text/plain": [
       "<Figure size 640x480 with 1 Axes>"
      ]
     },
     "metadata": {},
     "output_type": "display_data"
    }
   ],
   "source": [
    "# Look at some scatter plots (only plotting for a subset of data to keep things fast)\n",
    "sample = train.sample(10000)\n",
    "plt.scatter(sample['climate_vap'], sample['burn_area'], alpha=0.3)"
   ]
  },
  {
   "cell_type": "code",
   "execution_count": 34,
   "metadata": {
    "colab": {
     "base_uri": "https://localhost:8080/",
     "height": 447
    },
    "id": "Fp-Wq1zrCets",
    "outputId": "fc84c36e-8841-4258-8ddf-51a87d21ada7"
   },
   "outputs": [
    {
     "data": {
      "text/plain": [
       "<matplotlib.collections.PathCollection at 0x22fd3be5580>"
      ]
     },
     "execution_count": 34,
     "metadata": {},
     "output_type": "execute_result"
    },
    {
     "data": {
      "image/png": "[encoded data removed]",
      "text/plain": [
       "<Figure size 640x480 with 1 Axes>"
      ]
     },
     "metadata": {},
     "output_type": "display_data"
    }
   ],
   "source": [
    "# Most fires occur when there's very little rain.\n",
    "plt.scatter(sample['climate_pr'], sample['burn_area'], alpha=0.3)"
   ]
  },
  {
   "cell_type": "markdown",
   "metadata": {
    "id": "xXIk62X9iONj"
   },
   "source": [
    "##  Adding date features"
   ]
  },
  {
   "cell_type": "code",
   "execution_count": 35,
   "metadata": {
    "id": "pn-SKQxiHAon"
   },
   "outputs": [],
   "source": [
    "# Split the ID (eg 127_2017-01-03) to get the date string, which we convert to datetime to make life easier\n",
    "train['date'] = pd.to_datetime(train['ID'].apply(lambda x: x.split('_')[1]))\n",
    "test['date'] = pd.to_datetime(test['ID'].apply(lambda x: x.split('_')[1]))"
   ]
  },
  {
   "cell_type": "code",
   "execution_count": 36,
   "metadata": {
    "colab": {
     "base_uri": "https://localhost:8080/"
    },
    "id": "3tAU8Z9uV_AD",
    "outputId": "3c855687-1773-4645-f746-d81fd85079cc"
   },
   "outputs": [
    {
     "data": {
      "text/plain": [
       "Timestamp('2001-01-01 00:00:00')"
      ]
     },
     "execution_count": 36,
     "metadata": {},
     "output_type": "execute_result"
    }
   ],
   "source": [
    "train['date'][1]"
   ]
  },
  {
   "cell_type": "code",
   "execution_count": 37,
   "metadata": {
    "colab": {
     "base_uri": "https://localhost:8080/",
     "height": 342
    },
    "id": "eCeRSF9YUI_5",
    "outputId": "00368a2e-35ed-4ff1-bb4a-b8542fd8b0ec"
   },
   "outputs": [
    {
     "data": {
      "text/html": [
       "<div>\n",
       "<style scoped>\n",
       "    .dataframe tbody tr th:only-of-type {\n",
       "        vertical-align: middle;\n",
       "    }\n",
       "\n",
       "    .dataframe tbody tr th {\n",
       "        vertical-align: top;\n",
       "    }\n",
       "\n",
       "    .dataframe thead th {\n",
       "        text-align: right;\n",
       "    }\n",
       "</style>\n",
       "<table border=\"1\" class=\"dataframe\">\n",
       "  <thead>\n",
       "    <tr style=\"text-align: right;\">\n",
       "      <th></th>\n",
       "      <th>ID</th>\n",
       "      <th>lat</th>\n",
       "      <th>lon</th>\n",
       "      <th>burn_area</th>\n",
       "      <th>climate_aet</th>\n",
       "      <th>climate_def</th>\n",
       "      <th>climate_pdsi</th>\n",
       "      <th>climate_pet</th>\n",
       "      <th>climate_pr</th>\n",
       "      <th>climate_ro</th>\n",
       "      <th>...</th>\n",
       "      <th>landcover_1</th>\n",
       "      <th>landcover_2</th>\n",
       "      <th>landcover_3</th>\n",
       "      <th>landcover_4</th>\n",
       "      <th>landcover_5</th>\n",
       "      <th>landcover_6</th>\n",
       "      <th>landcover_7</th>\n",
       "      <th>landcover_8</th>\n",
       "      <th>precipitation</th>\n",
       "      <th>date</th>\n",
       "    </tr>\n",
       "  </thead>\n",
       "  <tbody>\n",
       "    <tr>\n",
       "      <th>0</th>\n",
       "      <td>0_2001-01-01</td>\n",
       "      <td>-15.858835</td>\n",
       "      <td>29.237029</td>\n",
       "      <td>0.0</td>\n",
       "      <td>1195</td>\n",
       "      <td>0</td>\n",
       "      <td>263</td>\n",
       "      <td>1195</td>\n",
       "      <td>206</td>\n",
       "      <td>10</td>\n",
       "      <td>...</td>\n",
       "      <td>0.0</td>\n",
       "      <td>0.018654</td>\n",
       "      <td>0.0</td>\n",
       "      <td>0.714446</td>\n",
       "      <td>0.012174</td>\n",
       "      <td>0.244890</td>\n",
       "      <td>0.009836</td>\n",
       "      <td>0.0</td>\n",
       "      <td>0.256932</td>\n",
       "      <td>2001-01-01</td>\n",
       "    </tr>\n",
       "    <tr>\n",
       "      <th>1</th>\n",
       "      <td>1_2001-01-01</td>\n",
       "      <td>-15.858835</td>\n",
       "      <td>29.487029</td>\n",
       "      <td>0.0</td>\n",
       "      <td>1196</td>\n",
       "      <td>0</td>\n",
       "      <td>232</td>\n",
       "      <td>1196</td>\n",
       "      <td>201</td>\n",
       "      <td>10</td>\n",
       "      <td>...</td>\n",
       "      <td>0.0</td>\n",
       "      <td>0.000000</td>\n",
       "      <td>0.0</td>\n",
       "      <td>0.654783</td>\n",
       "      <td>0.000095</td>\n",
       "      <td>0.345121</td>\n",
       "      <td>0.000000</td>\n",
       "      <td>0.0</td>\n",
       "      <td>0.273093</td>\n",
       "      <td>2001-01-01</td>\n",
       "    </tr>\n",
       "    <tr>\n",
       "      <th>2</th>\n",
       "      <td>2_2001-01-01</td>\n",
       "      <td>-15.858835</td>\n",
       "      <td>29.737029</td>\n",
       "      <td>0.0</td>\n",
       "      <td>1190</td>\n",
       "      <td>0</td>\n",
       "      <td>314</td>\n",
       "      <td>1190</td>\n",
       "      <td>192</td>\n",
       "      <td>10</td>\n",
       "      <td>...</td>\n",
       "      <td>0.0</td>\n",
       "      <td>0.000000</td>\n",
       "      <td>0.0</td>\n",
       "      <td>0.516421</td>\n",
       "      <td>0.000000</td>\n",
       "      <td>0.483579</td>\n",
       "      <td>0.000000</td>\n",
       "      <td>0.0</td>\n",
       "      <td>0.285109</td>\n",
       "      <td>2001-01-01</td>\n",
       "    </tr>\n",
       "    <tr>\n",
       "      <th>3</th>\n",
       "      <td>3_2001-01-01</td>\n",
       "      <td>-15.858835</td>\n",
       "      <td>29.987029</td>\n",
       "      <td>0.0</td>\n",
       "      <td>1144</td>\n",
       "      <td>0</td>\n",
       "      <td>321</td>\n",
       "      <td>1144</td>\n",
       "      <td>186</td>\n",
       "      <td>66</td>\n",
       "      <td>...</td>\n",
       "      <td>0.0</td>\n",
       "      <td>0.000000</td>\n",
       "      <td>0.0</td>\n",
       "      <td>0.299000</td>\n",
       "      <td>0.163902</td>\n",
       "      <td>0.537098</td>\n",
       "      <td>0.000000</td>\n",
       "      <td>0.0</td>\n",
       "      <td>0.298418</td>\n",
       "      <td>2001-01-01</td>\n",
       "    </tr>\n",
       "    <tr>\n",
       "      <th>4</th>\n",
       "      <td>4_2001-01-01</td>\n",
       "      <td>-15.858835</td>\n",
       "      <td>30.237029</td>\n",
       "      <td>0.0</td>\n",
       "      <td>1187</td>\n",
       "      <td>0</td>\n",
       "      <td>413</td>\n",
       "      <td>1187</td>\n",
       "      <td>186</td>\n",
       "      <td>9</td>\n",
       "      <td>...</td>\n",
       "      <td>0.0</td>\n",
       "      <td>0.000000</td>\n",
       "      <td>0.0</td>\n",
       "      <td>0.277392</td>\n",
       "      <td>0.067742</td>\n",
       "      <td>0.654866</td>\n",
       "      <td>0.000000</td>\n",
       "      <td>0.0</td>\n",
       "      <td>0.315621</td>\n",
       "      <td>2001-01-01</td>\n",
       "    </tr>\n",
       "  </tbody>\n",
       "</table>\n",
       "<p>5 rows × 30 columns</p>\n",
       "</div>"
      ],
      "text/plain": [
       "             ID        lat        lon  burn_area  climate_aet  climate_def  \\\n",
       "0  0_2001-01-01 -15.858835  29.237029        0.0         1195            0   \n",
       "1  1_2001-01-01 -15.858835  29.487029        0.0         1196            0   \n",
       "2  2_2001-01-01 -15.858835  29.737029        0.0         1190            0   \n",
       "3  3_2001-01-01 -15.858835  29.987029        0.0         1144            0   \n",
       "4  4_2001-01-01 -15.858835  30.237029        0.0         1187            0   \n",
       "\n",
       "   climate_pdsi  climate_pet  climate_pr  climate_ro  ...  landcover_1  \\\n",
       "0           263         1195         206          10  ...          0.0   \n",
       "1           232         1196         201          10  ...          0.0   \n",
       "2           314         1190         192          10  ...          0.0   \n",
       "3           321         1144         186          66  ...          0.0   \n",
       "4           413         1187         186           9  ...          0.0   \n",
       "\n",
       "   landcover_2  landcover_3  landcover_4  landcover_5  landcover_6  \\\n",
       "0     0.018654          0.0     0.714446     0.012174     0.244890   \n",
       "1     0.000000          0.0     0.654783     0.000095     0.345121   \n",
       "2     0.000000          0.0     0.516421     0.000000     0.483579   \n",
       "3     0.000000          0.0     0.299000     0.163902     0.537098   \n",
       "4     0.000000          0.0     0.277392     0.067742     0.654866   \n",
       "\n",
       "   landcover_7  landcover_8  precipitation       date  \n",
       "0     0.009836          0.0       0.256932 2001-01-01  \n",
       "1     0.000000          0.0       0.273093 2001-01-01  \n",
       "2     0.000000          0.0       0.285109 2001-01-01  \n",
       "3     0.000000          0.0       0.298418 2001-01-01  \n",
       "4     0.000000          0.0       0.315621 2001-01-01  \n",
       "\n",
       "[5 rows x 30 columns]"
      ]
     },
     "execution_count": 37,
     "metadata": {},
     "output_type": "execute_result"
    }
   ],
   "source": [
    "train.head()"
   ]
  },
  {
   "cell_type": "code",
   "execution_count": 38,
   "metadata": {
    "id": "bag8HJpxCucw"
   },
   "outputs": [],
   "source": [
    "# Date variables\n",
    "train['month'] = train.date.dt.month\n",
    "train['year'] = train.date.dt.year"
   ]
  },
  {
   "cell_type": "code",
   "execution_count": 39,
   "metadata": {
    "id": "89bsb9HkUtrG"
   },
   "outputs": [],
   "source": [
    "# Group by month and calculate the mean burn_area\n",
    "monthly_mean_burn_area = train.groupby('month')['burn_area'].mean().reset_index()"
   ]
  },
  {
   "cell_type": "code",
   "execution_count": 40,
   "metadata": {
    "colab": {
     "base_uri": "https://localhost:8080/",
     "height": 564
    },
    "id": "vzlSxP_SUxxH",
    "outputId": "0941b6ee-1791-4dd1-fc79-2dc201f538ab"
   },
   "outputs": [
    {
     "data": {
      "image/png": "[encoded data removed]",
      "text/plain": [
       "<Figure size 1000x600 with 1 Axes>"
      ]
     },
     "metadata": {},
     "output_type": "display_data"
    }
   ],
   "source": [
    "# Plot the results\n",
    "plt.figure(figsize=(10, 6))\n",
    "plt.bar(monthly_mean_burn_area['month'], monthly_mean_burn_area['burn_area'], color='skyblue')\n",
    "plt.xlabel('Month')\n",
    "plt.ylabel('Mean Burn Area')\n",
    "plt.title('Mean Burn Area by Month')\n",
    "plt.xticks(monthly_mean_burn_area['month'])\n",
    "plt.grid(axis='y', linestyle='--', alpha=0.7)\n",
    "plt.show()"
   ]
  },
  {
   "cell_type": "code",
   "execution_count": 41,
   "metadata": {
    "id": "Rp9KHVEKVN_m"
   },
   "outputs": [],
   "source": [
    "# Group by year and calculate the mean burn_area\n",
    "yearly_mean_burn_area = train.groupby('year')['burn_area'].mean().reset_index()"
   ]
  },
  {
   "cell_type": "code",
   "execution_count": 42,
   "metadata": {
    "colab": {
     "base_uri": "https://localhost:8080/",
     "height": 564
    },
    "id": "ispUqAsaVTRP",
    "outputId": "b70d8288-67b0-4194-d587-8b14503a900a"
   },
   "outputs": [
    {
     "data": {
      "image/png": "[encoded data removed]",
      "text/plain": [
       "<Figure size 1000x600 with 1 Axes>"
      ]
     },
     "metadata": {},
     "output_type": "display_data"
    }
   ],
   "source": [
    "# Plot the results\n",
    "plt.figure(figsize=(10, 6))\n",
    "plt.bar(yearly_mean_burn_area['year'], yearly_mean_burn_area['burn_area'], color='skyblue')\n",
    "plt.xlabel('Year')\n",
    "plt.ylabel('Mean Burn Area')\n",
    "plt.title('Mean Burn Area by Year')\n",
    "plt.xticks(yearly_mean_burn_area['year'])\n",
    "plt.grid(axis='y', linestyle='--', alpha=0.7)\n",
    "plt.show()"
   ]
  },
  {
   "cell_type": "code",
   "execution_count": 43,
   "metadata": {
    "colab": {
     "base_uri": "https://localhost:8080/",
     "height": 419
    },
    "id": "BCU3WP5fEAHq",
    "outputId": "e8ba0796-29d2-4e3a-ee88-04e328ffd34a"
   },
   "outputs": [
    {
     "data": {
      "text/plain": [
       "<Axes: xlabel='date'>"
      ]
     },
     "execution_count": 43,
     "metadata": {},
     "output_type": "execute_result"
    },
    {
     "data": {
      "image/png": "[encoded data removed]",
      "text/plain": [
       "<Figure size 1800x500 with 1 Axes>"
      ]
     },
     "metadata": {},
     "output_type": "display_data"
    }
   ],
   "source": [
    "# Convert 'burn_area' to numeric, handling non-numeric values\n",
    "train['burn_area'] = pd.to_numeric(train['burn_area'], errors='coerce')\n",
    "\n",
    "# Now try plotting again\n",
    "ax = train.groupby('date')['burn_area'].mean().reset_index().plot(y='burn_area', x='date', figsize=(18, 5))\n",
    "train.groupby('date')['precipitation'].mean().reset_index().plot(y='precipitation', x='date', ax=ax)"
   ]
  },
  {
   "cell_type": "markdown",
   "metadata": {
    "id": "mgzvz9iji1hb"
   },
   "source": [
    "## Adding more features - some ideas\n",
    "\n",
    "\n",
    "\n",
    "\n",
    "*   Read the list of climate variables and what they mean. See if you can combine them in interesting ways - perhaps a 'hot_and_dry' metric...\n",
    "*   Fire depends on some processes that take a long time - for example, there may be more fuel if the previous growing season was a good one. Consider some lagged variables to give the model some inputs for what came before the current month.\n",
    "*   Make some categorical features - 'dominant_land_type' or 'is_peak_rainfall'.\n",
    "*   ...\n",
    "\n"
   ]
  },
  {
   "cell_type": "markdown",
   "metadata": {
    "id": "RDCOsUvCz3dA"
   },
   "source": [
    "# Data Split for Validation\n",
    "\n",
    "We don't want to just split randomly - this would give us artificially high scores. Instead, let's use the last 3 years of the dataset for validation to more closely match the test configuration."
   ]
  },
  {
   "cell_type": "code",
   "execution_count": 44,
   "metadata": {
    "colab": {
     "base_uri": "https://localhost:8080/"
    },
    "id": "SCk5CZKI0Kt4",
    "outputId": "81b7374d-619e-44ea-a7d7-b735226b5399"
   },
   "outputs": [
    {
     "data": {
      "text/plain": [
       "\"train_all = train.copy().dropna()\\ntrain = train_all.loc[train_all.date < '2011-01-01']\\nvalid = train_all.loc[train_all.date > '2011-01-01']\\nprint(train.shape, valid.shape)\""
      ]
     },
     "execution_count": 44,
     "metadata": {},
     "output_type": "execute_result"
    }
   ],
   "source": [
    "\"\"\"train_all = train.copy().dropna()\n",
    "train = train_all.loc[train_all.date < '2011-01-01']\n",
    "valid = train_all.loc[train_all.date > '2011-01-01']\n",
    "print(train.shape, valid.shape)\"\"\""
   ]
  },
  {
   "cell_type": "markdown",
   "metadata": {
    "id": "sIRFzOxTx3sE"
   },
   "source": [
    "# Simple Model"
   ]
  },
  {
   "cell_type": "code",
   "execution_count": 45,
   "metadata": {
    "colab": {
     "base_uri": "https://localhost:8080/"
    },
    "id": "iu_Qv6-ftNsX",
    "outputId": "f4d2536a-8617-43e5-bcf5-d3414c8e83f7"
   },
   "outputs": [
    {
     "data": {
      "text/plain": [
       "Index(['ID', 'lat', 'lon', 'burn_area', 'climate_aet', 'climate_def',\n",
       "       'climate_pdsi', 'climate_pet', 'climate_pr', 'climate_ro',\n",
       "       'climate_soil', 'climate_srad', 'climate_swe', 'climate_tmmn',\n",
       "       'climate_tmmx', 'climate_vap', 'climate_vpd', 'climate_vs', 'elevation',\n",
       "       'landcover_0', 'landcover_1', 'landcover_2', 'landcover_3',\n",
       "       'landcover_4', 'landcover_5', 'landcover_6', 'landcover_7',\n",
       "       'landcover_8', 'precipitation', 'date', 'month', 'year'],\n",
       "      dtype='object')"
      ]
     },
     "execution_count": 45,
     "metadata": {},
     "output_type": "execute_result"
    }
   ],
   "source": [
    "train.columns"
   ]
  },
  {
   "cell_type": "code",
   "execution_count": 46,
   "metadata": {
    "colab": {
     "base_uri": "https://localhost:8080/"
    },
    "id": "Q_m4EEk-tNsY",
    "outputId": "96846c9c-1e6f-4ca0-9397-f6ac857dcc1e"
   },
   "outputs": [
    {
     "name": "stdout",
     "output_type": "stream",
     "text": [
      "<class 'pandas.core.frame.DataFrame'>\n",
      "RangeIndex: 83148 entries, 0 to 83147\n",
      "Data columns (total 32 columns):\n",
      " #   Column         Non-Null Count  Dtype         \n",
      "---  ------         --------------  -----         \n",
      " 0   ID             83148 non-null  object        \n",
      " 1   lat            83148 non-null  float64       \n",
      " 2   lon            83148 non-null  float64       \n",
      " 3   burn_area      83148 non-null  float64       \n",
      " 4   climate_aet    83148 non-null  int64         \n",
      " 5   climate_def    83148 non-null  int64         \n",
      " 6   climate_pdsi   83148 non-null  int64         \n",
      " 7   climate_pet    83148 non-null  int64         \n",
      " 8   climate_pr     83148 non-null  int64         \n",
      " 9   climate_ro     83148 non-null  int64         \n",
      " 10  climate_soil   83148 non-null  int64         \n",
      " 11  climate_srad   83148 non-null  int64         \n",
      " 12  climate_swe    83148 non-null  int64         \n",
      " 13  climate_tmmn   83148 non-null  int64         \n",
      " 14  climate_tmmx   83148 non-null  int64         \n",
      " 15  climate_vap    83148 non-null  int64         \n",
      " 16  climate_vpd    83148 non-null  int64         \n",
      " 17  climate_vs     83148 non-null  int64         \n",
      " 18  elevation      83148 non-null  float64       \n",
      " 19  landcover_0    83148 non-null  float64       \n",
      " 20  landcover_1    83148 non-null  float64       \n",
      " 21  landcover_2    83148 non-null  float64       \n",
      " 22  landcover_3    83148 non-null  float64       \n",
      " 23  landcover_4    83148 non-null  float64       \n",
      " 24  landcover_5    83148 non-null  float64       \n",
      " 25  landcover_6    83148 non-null  float64       \n",
      " 26  landcover_7    83148 non-null  float64       \n",
      " 27  landcover_8    83148 non-null  float64       \n",
      " 28  precipitation  83148 non-null  float64       \n",
      " 29  date           83148 non-null  datetime64[ns]\n",
      " 30  month          83148 non-null  int32         \n",
      " 31  year           83148 non-null  int32         \n",
      "dtypes: datetime64[ns](1), float64(14), int32(2), int64(14), object(1)\n",
      "memory usage: 19.7+ MB\n"
     ]
    }
   ],
   "source": [
    "train.info()"
   ]
  },
  {
   "cell_type": "markdown",
   "metadata": {},
   "source": [
    "## Feature engineering"
   ]
  },
  {
   "cell_type": "code",
   "execution_count": 47,
   "metadata": {},
   "outputs": [],
   "source": [
    "train.loc[:, 'date'] = pd.to_datetime(train['ID'].apply(lambda x: x.split('_')[1]))\n",
    "train.loc[:, 'month'] = train.date.dt.month\n",
    "train.loc[:, 'year'] = train.date.dt.year\n",
    "train.loc[:, 'area_ID'] = train['ID'].apply(lambda x: int(x.split('_')[0]))\n",
    "train.loc[:, 'area_ID'] = train['area_ID'].astype('category')\n",
    "\n",
    "# Split the ID (eg 127_2017-01-03) to get the date string, which we convert to datetime to make life easier\n",
    "train['date'] = pd.to_datetime(train['ID'].apply(lambda x: x.split('_')[1]))\n",
    "test['date'] = pd.to_datetime(test['ID'].apply(lambda x: x.split('_')[1]))\n",
    "# Date variables\n",
    "train['month'] = train.date.dt.month\n",
    "train['year'] = train.date.dt.year\n",
    "\n",
    "# Extract area_ID from ID\n",
    "train['area_ID'] = train['ID'].apply(lambda x: int(x.split('_')[0]))\n",
    "test['area_ID'] = test['ID'].apply(lambda x: int(x.split('_')[0]))\n",
    "\n",
    "# Convert area_ID to categorical\n",
    "train['area_ID'] = train['area_ID'].astype('category')\n",
    "test['area_ID'] = test['area_ID'].astype('category')\n",
    "\n",
    "# Apply one-hot encoding to area_ID\n",
    "train = pd.get_dummies(train, columns=['area_ID'], prefix=['area_ID'])\n",
    "test = pd.get_dummies(test, columns=['area_ID'], prefix=['area_ID'])\n",
    "\n",
    "# Ensure train and test have the same columns\n",
    "all_columns = set(train.columns).union(set(test.columns))\n",
    "train = train.reindex(columns=all_columns, fill_value=0)\n",
    "test = test.reindex(columns=all_columns, fill_value=0)"
   ]
  },
  {
   "cell_type": "code",
   "execution_count": 48,
   "metadata": {},
   "outputs": [],
   "source": [
    "# Create combined climate variables\n",
    "train['hot_and_dry'] = (train['climate_tmmx'] - train['climate_tmmn']) / (train['climate_pr'] + 1)\n",
    "test['hot_and_dry'] = (test['climate_tmmx'] - test['climate_tmmn']) / (test['climate_pr'] + 1)\n",
    "\n",
    "train['moisture_stress'] = train['climate_aet'] / (train['climate_pr'] + train['climate_soil'] + 1)\n",
    "test['moisture_stress'] = test['climate_aet'] / (test['climate_pr'] + test['climate_soil'] + 1)\n",
    "\n",
    "train['temperature_range'] = train['climate_tmmx'] - train['climate_tmmn']\n",
    "test['temperature_range'] = test['climate_tmmx'] - test['climate_tmmn']\n",
    "\n",
    "train['drought_index'] = train['climate_pdsi'] + train['climate_def']\n",
    "test['drought_index'] = test['climate_pdsi'] + test['climate_def']\n",
    "\n",
    "train['vpd_temp_ratio'] = train['climate_vpd'] / (train['climate_tmmx'] + 1)\n",
    "test['vpd_temp_ratio'] = test['climate_vpd'] / (test['climate_tmmx'] + 1)\n",
    "\n",
    "train['temp_precip_interaction'] = (train['climate_tmmx'] - train['climate_tmmn']) * train['climate_pr']\n",
    "test['temp_precip_interaction'] = (test['climate_tmmx'] - test['climate_tmmn']) * test['climate_pr']\n",
    "\n",
    "train['vpd_moisture_interaction'] = train['vpd_temp_ratio'] * train['moisture_stress']\n",
    "test['vpd_moisture_interaction'] = test['vpd_temp_ratio'] * test['moisture_stress']\n",
    "\n",
    "# Geographic Regions\n",
    "# Define latitude and longitude zones based on the specific ranges\n",
    "train['lat_zone'] = pd.cut(train['lat'], bins=[-26, -22, -18, -16], labels=['Southernmost', 'Mid-Southern', 'Northernmost'])\n",
    "test['lat_zone'] = pd.cut(test['lat'], bins=[-26, -22, -18, -16], labels=['Southernmost', 'Mid-Southern', 'Northernmost'])\n",
    "\n",
    "train['lon_zone'] = pd.cut(train['lon'], bins=[26, 29, 31, 33], labels=['Westernmost', 'Mid-Western', 'Easternmost'])\n",
    "test['lon_zone'] = pd.cut(test['lon'], bins=[26, 29, 31, 33], labels=['Westernmost', 'Mid-Western', 'Easternmost'])\n",
    "\n",
    "# One-hot encoding geographic regions\n",
    "train = pd.get_dummies(train, columns=['lat_zone', 'lon_zone'], drop_first=True)\n",
    "test = pd.get_dummies(test, columns=['lat_zone', 'lon_zone'], drop_first=True)\n",
    "\n",
    "# Combine climate temperature range with land cover types\n",
    "for i in range(9):\n",
    "    train[f'temp_range_landcover_{i}'] = train['temperature_range'] * train[f'landcover_{i}']\n",
    "    test[f'temp_range_landcover_{i}'] = test['temperature_range'] * test[f'landcover_{i}']\n",
    "\n",
    "# Combine precipitation with land cover types\n",
    "for i in range(9):\n",
    "    train[f'precipitation_landcover_{i}'] = train['precipitation'] * train[f'landcover_{i}']\n",
    "    test[f'precipitation_landcover_{i}'] = test['precipitation'] * test[f'landcover_{i}']\n",
    "\n",
    "# Variables to lag\n",
    "lag_vars = ['climate_pr', 'climate_tmmx', 'climate_tmmn', 'climate_soil', 'climate_aet', 'drought_index']\n",
    "\n",
    "# Create lagged variables\n",
    "for var in lag_vars:\n",
    "    for lag in [3, 6, 9, 12]:\n",
    "        train[f'{var}_lag_{lag}'] = train[var].shift(lag)\n",
    "        test[f'{var}_lag_{lag}'] = test[var].shift(lag)\n",
    "\n",
    "# Dropping NaNs that result from lagging\n",
    "train = train.dropna().reset_index(drop=True)\n",
    "test = test.dropna().reset_index(drop=True)"
   ]
  },
  {
   "cell_type": "markdown",
   "metadata": {},
   "source": [
    "## Data Split"
   ]
  },
  {
   "cell_type": "code",
   "execution_count": 49,
   "metadata": {},
   "outputs": [
    {
     "name": "stdout",
     "output_type": "stream",
     "text": [
      "(63948, 618) (19188, 618)\n"
     ]
    }
   ],
   "source": [
    "# Use the last 3 years of the dataset for validation\n",
    "train_all = train.copy().dropna()\n",
    "train = train_all.loc[train_all.date < '2011-01-01']\n",
    "valid = train_all.loc[train_all.date >= '2011-01-01']\n",
    "print(train.shape, valid.shape)\n",
    "\n",
    "# Define input and output columns\n",
    "drop_cols = ['ID', 'date', 'burn_area', 'month', 'year', 'landcover_0', 'landcover_1', 'landcover_3', 'landcover_7', 'landcover_8', 'climate_swe', 'climate_ro']\n",
    "in_cols = [col for col in train.columns if col not in drop_cols]\n",
    "target_col = 'burn_area'\n",
    "\n",
    "X_train = train[in_cols]\n",
    "y_train = train[target_col]\n",
    "X_valid = valid[in_cols]\n",
    "y_valid = valid[target_col]"
   ]
  },
  {
   "cell_type": "markdown",
   "metadata": {
    "id": "Y3jJi2Hbzsvn"
   },
   "source": [
    "XGBOOST MODEL"
   ]
  },
  {
   "cell_type": "code",
   "execution_count": 50,
   "metadata": {
    "colab": {
     "base_uri": "https://localhost:8080/"
    },
    "id": "l-8j9zDpzUpc",
    "outputId": "d3f389dd-ea56-4f5e-de76-87253be7d75b"
   },
   "outputs": [
    {
     "ename": "ModuleNotFoundError",
     "evalue": "No module named 'xgboost'",
     "output_type": "error",
     "traceback": [
      "\u001b[1;31m---------------------------------------------------------------------------\u001b[0m",
      "\u001b[1;31mModuleNotFoundError\u001b[0m                       Traceback (most recent call last)",
      "Cell \u001b[1;32mIn[50], line 4\u001b[0m\n\u001b[0;32m      2\u001b[0m \u001b[38;5;28;01mfrom\u001b[39;00m \u001b[38;5;21;01msklearn\u001b[39;00m\u001b[38;5;21;01m.\u001b[39;00m\u001b[38;5;21;01mmodel_selection\u001b[39;00m \u001b[38;5;28;01mimport\u001b[39;00m GridSearchCV\n\u001b[0;32m      3\u001b[0m \u001b[38;5;28;01mfrom\u001b[39;00m \u001b[38;5;21;01msklearn\u001b[39;00m\u001b[38;5;21;01m.\u001b[39;00m\u001b[38;5;21;01mpreprocessing\u001b[39;00m \u001b[38;5;28;01mimport\u001b[39;00m StandardScaler\n\u001b[1;32m----> 4\u001b[0m \u001b[38;5;28;01mfrom\u001b[39;00m \u001b[38;5;21;01mxgboost\u001b[39;00m \u001b[38;5;28;01mimport\u001b[39;00m XGBRegressor\n\u001b[0;32m      6\u001b[0m \u001b[38;5;66;03m#standardscaler\u001b[39;00m\n\u001b[0;32m      7\u001b[0m \u001b[38;5;66;03m# scaler=StandardScaler()\u001b[39;00m\n\u001b[0;32m      8\u001b[0m \u001b[38;5;66;03m# X_train_scaled=scaler.fit_transform(X_train)\u001b[39;00m\n\u001b[1;32m   (...)\u001b[0m\n\u001b[0;32m     11\u001b[0m \n\u001b[0;32m     12\u001b[0m \u001b[38;5;66;03m#Train the XGBClassifier model\u001b[39;00m\n\u001b[0;32m     13\u001b[0m xgb\u001b[38;5;241m=\u001b[39mXGBRegressor()\n",
      "\u001b[1;31mModuleNotFoundError\u001b[0m: No module named 'xgboost'"
     ]
    }
   ],
   "source": [
    "# Get our X and y training and validation sets ready\n",
    "from sklearn.model_selection import GridSearchCV\n",
    "from sklearn.preprocessing import StandardScaler\n",
    "from xgboost import XGBRegressor\n",
    "\n",
    "#standardscaler\n",
    "# scaler=StandardScaler()\n",
    "# X_train_scaled=scaler.fit_transform(X_train)\n",
    "# X_valid_scaled=scaler.transform(X_valid)\n",
    "\n",
    "\n",
    "#Train the XGBClassifier model\n",
    "xgb=XGBRegressor()\n",
    "\n",
    "xgb_param_grid = {\n",
    "    'learning_rate': [0.01, 0.05],\n",
    "    'n_estimators': [100, 200],\n",
    "    'max_depth': [3, 5],\n",
    "    'subsample': [0.5, 0.6]\n",
    "}\n",
    "\n",
    "\n",
    "grid_search=GridSearchCV(\n",
    "    estimator=xgb,\n",
    "    param_grid=xgb_param_grid,\n",
    "    cv=3,\n",
    "    scoring='neg_mean_squared_error',\n",
    "    n_jobs=-1,\n",
    "    verbose=2\n",
    ")\n",
    "\n",
    "# Fit GridSearchCV\n",
    "grid_search.fit(X_train,y_train)\n",
    "\n",
    "# Get the best estimator\n",
    "best_xgb_model=grid_search.best_estimator_\n",
    "\n",
    "# Create and fit the model\n",
    "model = best_xgb_model\n",
    "model.fit(X_train, y_train)\n",
    "\n",
    "# Make predictions\n",
    "preds = model.predict(X_valid)\n",
    "\n",
    "# Score\n",
    "mean_squared_error(y_valid, preds)**0.5 # RMSE - should match Zindi score. Lower is better"
   ]
  },
  {
   "cell_type": "markdown",
   "metadata": {
    "id": "QihFK-TH66M3"
   },
   "source": [
    "CATBOOST MODEL"
   ]
  },
  {
   "cell_type": "code",
   "execution_count": null,
   "metadata": {
    "colab": {
     "base_uri": "https://localhost:8080/"
    },
    "id": "ODKDVBXY4F0b",
    "outputId": "664c8acd-d00b-4536-d228-a96bc9f527cf"
   },
   "outputs": [
    {
     "name": "stdout",
     "output_type": "stream",
     "text": [
      "Fitting 3 folds for each of 16 candidates, totalling 48 fits\n",
      "Root Mean Squared Error (CatBoost): 0.022944587486129927\n"
     ]
    }
   ],
   "source": [
    "from catboost import CatBoostRegressor\n",
    "from sklearn.model_selection import GridSearchCV\n",
    "from sklearn.metrics import mean_squared_error\n",
    "\n",
    "# Initialize CatBoostRegressor\n",
    "catboost = CatBoostRegressor(verbose=0)\n",
    "\n",
    "# Define parameter grid for CatBoost\n",
    "catboost_param_grid = {\n",
    "    'learning_rate': [0.01, 0.05],\n",
    "    'n_estimators': [100, 200],\n",
    "    'max_depth': [3, 5],\n",
    "    'subsample': [0.5, 0.6]\n",
    "}\n",
    "\n",
    "# Set up GridSearchCV for CatBoost\n",
    "grid_search = GridSearchCV(\n",
    "    estimator=catboost,\n",
    "    param_grid=catboost_param_grid,\n",
    "    cv=3,\n",
    "    scoring='neg_mean_squared_error',\n",
    "    n_jobs=-1,\n",
    "    verbose=2\n",
    ")\n",
    "\n",
    "# Fit GridSearchCV\n",
    "grid_search.fit(X_train, y_train)\n",
    "\n",
    "# Get the best estimator\n",
    "best_catboost_model = grid_search.best_estimator_\n",
    "\n",
    "# Create and fit the model\n",
    "model = best_catboost_model\n",
    "model.fit(X_train, y_train)\n",
    "\n",
    "# Make predictions\n",
    "preds = model.predict(X_valid)\n",
    "\n",
    "# Score\n",
    "rmse = mean_squared_error(y_valid, preds) ** 0.5\n",
    "print(f'Root Mean Squared Error (CatBoost): {rmse}')\n"
   ]
  },
  {
   "cell_type": "markdown",
   "metadata": {
    "id": "7hlHRBeB-whT"
   },
   "source": [
    "RANDOM FOREST REGRESSOR"
   ]
  },
  {
   "cell_type": "code",
   "execution_count": null,
   "metadata": {
    "colab": {
     "background_save": true,
     "base_uri": "https://localhost:8080/"
    },
    "id": "3hBHHyum-u_4",
    "outputId": "e98d0a1c-dcf8-4578-b5a1-39368975870f"
   },
   "outputs": [
    {
     "data": {
      "text/plain": [
       "\"from sklearn.ensemble import RandomForestRegressor\\n\\n# Initialize RandomForestRegressor\\nrf = RandomForestRegressor()\\n\\n# Define parameter grid for RandomForest\\nrf_param_grid = {\\n    'n_estimators': [100, 200],\\n    'max_depth': [10, 20],\\n    'min_samples_split': [2, 5],\\n    'min_samples_leaf': [1, 2],\\n}\\n\\n# Set up GridSearchCV for RandomForest\\ngrid_search = GridSearchCV(\\n    estimator=rf,\\n    param_grid=rf_param_grid,\\n    cv=3,\\n    scoring='neg_mean_squared_error',\\n    n_jobs=-1,\\n    verbose=2\\n)\\n\\n# Fit GridSearchCV\\ngrid_search.fit(X_train, y_train)\\n\\n# Get the best estimator\\nbest_rf_model = grid_search.best_estimator_\\n\\n# Create and fit the model\\nmodel = best_rf_model\\nmodel.fit(X_train, y_train)\\n\\n# Make predictions\\npreds = model.predict(X_valid)\\n\\n# Score\\nrmse = mean_squared_error(y_valid, preds) ** 0.5\\nprint(f'Root Mean Squared Error (RandomForest): {rmse}')\\n\""
      ]
     },
     "execution_count": 27,
     "metadata": {},
     "output_type": "execute_result"
    }
   ],
   "source": [
    "\"\"\"from sklearn.ensemble import RandomForestRegressor\n",
    "\n",
    "# Initialize RandomForestRegressor\n",
    "rf = RandomForestRegressor()\n",
    "\n",
    "# Define parameter grid for RandomForest\n",
    "rf_param_grid = {\n",
    "    'n_estimators': [100, 200],\n",
    "    'max_depth': [10, 20],\n",
    "    'min_samples_split': [2, 5],\n",
    "    'min_samples_leaf': [1, 2],\n",
    "}\n",
    "\n",
    "# Set up GridSearchCV for RandomForest\n",
    "grid_search = GridSearchCV(\n",
    "    estimator=rf,\n",
    "    param_grid=rf_param_grid,\n",
    "    cv=3,\n",
    "    scoring='neg_mean_squared_error',\n",
    "    n_jobs=-1,\n",
    "    verbose=2\n",
    ")\n",
    "\n",
    "# Fit GridSearchCV\n",
    "grid_search.fit(X_train, y_train)\n",
    "\n",
    "# Get the best estimator\n",
    "best_rf_model = grid_search.best_estimator_\n",
    "\n",
    "# Create and fit the model\n",
    "model = best_rf_model\n",
    "model.fit(X_train, y_train)\n",
    "\n",
    "# Make predictions\n",
    "preds = model.predict(X_valid)\n",
    "\n",
    "# Score\n",
    "rmse = mean_squared_error(y_valid, preds) ** 0.5\n",
    "print(f'Root Mean Squared Error (RandomForest): {rmse}')\n",
    "\"\"\""
   ]
  },
  {
   "cell_type": "code",
   "execution_count": null,
   "metadata": {
    "id": "isI_-sfnzXED"
   },
   "outputs": [],
   "source": [
    "# Exercise. Try a RandomForestRegressor model. Use n_estimators=10 if the default takes too long to run, and experiment with the max_depth parameter."
   ]
  },
  {
   "cell_type": "markdown",
   "metadata": {},
   "source": [
    "## Ensemble Model"
   ]
  },
  {
   "cell_type": "code",
   "execution_count": null,
   "metadata": {},
   "outputs": [
    {
     "name": "stdout",
     "output_type": "stream",
     "text": [
      "Root Mean Squared Error (Voting Regressor): 0.022509972391486745\n"
     ]
    }
   ],
   "source": [
    "from sklearn.ensemble import VotingRegressor\n",
    "\n",
    "cb=best_catboost_model\n",
    "xgb=best_xgb_model\n",
    "\n",
    "voting_R=VotingRegressor(estimators=[('CatBoost',cb),\n",
    "                                     ('xgboost',xgb)\n",
    "                                       ],\n",
    "                        )\n",
    "\n",
    "# Create and fit the model\n",
    "model = voting_R\n",
    "model.fit(X_train, y_train)\n",
    "\n",
    "# Make predictions\n",
    "preds = model.predict(X_valid)\n",
    "\n",
    "# Score\n",
    "rmse = mean_squared_error(y_valid, preds) ** 0.5\n",
    "print(f'Root Mean Squared Error (Voting Regressor): {rmse}')\n",
    "\n"
   ]
  },
  {
   "cell_type": "markdown",
   "metadata": {
    "id": "Eq7DM0URkkai"
   },
   "source": [
    "# Making A Submission\n",
    "\n",
    "Once you've got some features and a model you're happy with, it's time to submit!"
   ]
  },
  {
   "cell_type": "code",
   "execution_count": null,
   "metadata": {
    "colab": {
     "base_uri": "https://localhost:8080/",
     "height": 206
    },
    "id": "bb8DdgWskqQs",
    "outputId": "5f05619b-8c19-49e9-d510-d954bdd5587f"
   },
   "outputs": [
    {
     "data": {
      "text/html": [
       "<div>\n",
       "<style scoped>\n",
       "    .dataframe tbody tr th:only-of-type {\n",
       "        vertical-align: middle;\n",
       "    }\n",
       "\n",
       "    .dataframe tbody tr th {\n",
       "        vertical-align: top;\n",
       "    }\n",
       "\n",
       "    .dataframe thead th {\n",
       "        text-align: right;\n",
       "    }\n",
       "</style>\n",
       "<table border=\"1\" class=\"dataframe\">\n",
       "  <thead>\n",
       "    <tr style=\"text-align: right;\">\n",
       "      <th></th>\n",
       "      <th>ID</th>\n",
       "      <th>burn_area</th>\n",
       "    </tr>\n",
       "  </thead>\n",
       "  <tbody>\n",
       "    <tr>\n",
       "      <th>0</th>\n",
       "      <td>0_2014-01-01</td>\n",
       "      <td>0</td>\n",
       "    </tr>\n",
       "    <tr>\n",
       "      <th>1</th>\n",
       "      <td>1_2014-01-01</td>\n",
       "      <td>0</td>\n",
       "    </tr>\n",
       "    <tr>\n",
       "      <th>2</th>\n",
       "      <td>2_2014-01-01</td>\n",
       "      <td>0</td>\n",
       "    </tr>\n",
       "    <tr>\n",
       "      <th>3</th>\n",
       "      <td>3_2014-01-01</td>\n",
       "      <td>0</td>\n",
       "    </tr>\n",
       "    <tr>\n",
       "      <th>4</th>\n",
       "      <td>4_2014-01-01</td>\n",
       "      <td>0</td>\n",
       "    </tr>\n",
       "  </tbody>\n",
       "</table>\n",
       "</div>"
      ],
      "text/plain": [
       "             ID  burn_area\n",
       "0  0_2014-01-01          0\n",
       "1  1_2014-01-01          0\n",
       "2  2_2014-01-01          0\n",
       "3  3_2014-01-01          0\n",
       "4  4_2014-01-01          0"
      ]
     },
     "execution_count": 31,
     "metadata": {},
     "output_type": "execute_result"
    }
   ],
   "source": [
    "# Look at the sample submission file\n",
    "ss = pd.read_csv('https://raw.githubusercontent.com/GKamundia/Zindi/main/Wildfire%20Prediction%20Challenge/SampleSubmission.csv')\n",
    "ss.head()"
   ]
  },
  {
   "cell_type": "code",
   "execution_count": null,
   "metadata": {
    "colab": {
     "base_uri": "https://localhost:8080/",
     "height": 342
    },
    "id": "MlKjnZ8WkvaX",
    "outputId": "1db8b264-e165-4de0-c15e-d023ec1c24b2"
   },
   "outputs": [
    {
     "data": {
      "text/html": [
       "<div>\n",
       "<style scoped>\n",
       "    .dataframe tbody tr th:only-of-type {\n",
       "        vertical-align: middle;\n",
       "    }\n",
       "\n",
       "    .dataframe tbody tr th {\n",
       "        vertical-align: top;\n",
       "    }\n",
       "\n",
       "    .dataframe thead th {\n",
       "        text-align: right;\n",
       "    }\n",
       "</style>\n",
       "<table border=\"1\" class=\"dataframe\">\n",
       "  <thead>\n",
       "    <tr style=\"text-align: right;\">\n",
       "      <th></th>\n",
       "      <th>climate_vpd</th>\n",
       "      <th>area_ID_506</th>\n",
       "      <th>climate_aet</th>\n",
       "      <th>area_ID_475</th>\n",
       "      <th>area_ID_266</th>\n",
       "      <th>area_ID_192</th>\n",
       "      <th>area_ID_21</th>\n",
       "      <th>climate_tmmx</th>\n",
       "      <th>area_ID_451</th>\n",
       "      <th>area_ID_187</th>\n",
       "      <th>...</th>\n",
       "      <th>climate_soil_lag_9</th>\n",
       "      <th>climate_soil_lag_12</th>\n",
       "      <th>climate_aet_lag_3</th>\n",
       "      <th>climate_aet_lag_6</th>\n",
       "      <th>climate_aet_lag_9</th>\n",
       "      <th>climate_aet_lag_12</th>\n",
       "      <th>drought_index_lag_3</th>\n",
       "      <th>drought_index_lag_6</th>\n",
       "      <th>drought_index_lag_9</th>\n",
       "      <th>drought_index_lag_12</th>\n",
       "    </tr>\n",
       "  </thead>\n",
       "  <tbody>\n",
       "    <tr>\n",
       "      <th>0</th>\n",
       "      <td>99</td>\n",
       "      <td>0</td>\n",
       "      <td>949</td>\n",
       "      <td>0</td>\n",
       "      <td>0</td>\n",
       "      <td>0</td>\n",
       "      <td>0</td>\n",
       "      <td>307</td>\n",
       "      <td>0</td>\n",
       "      <td>0</td>\n",
       "      <td>...</td>\n",
       "      <td>78.0</td>\n",
       "      <td>212.0</td>\n",
       "      <td>1061.0</td>\n",
       "      <td>1187.0</td>\n",
       "      <td>969.0</td>\n",
       "      <td>1146.0</td>\n",
       "      <td>-364.0</td>\n",
       "      <td>-428.0</td>\n",
       "      <td>-346.0</td>\n",
       "      <td>-377.0</td>\n",
       "    </tr>\n",
       "    <tr>\n",
       "      <th>1</th>\n",
       "      <td>105</td>\n",
       "      <td>0</td>\n",
       "      <td>958</td>\n",
       "      <td>0</td>\n",
       "      <td>0</td>\n",
       "      <td>0</td>\n",
       "      <td>0</td>\n",
       "      <td>313</td>\n",
       "      <td>0</td>\n",
       "      <td>0</td>\n",
       "      <td>...</td>\n",
       "      <td>139.0</td>\n",
       "      <td>330.0</td>\n",
       "      <td>898.0</td>\n",
       "      <td>1201.0</td>\n",
       "      <td>927.0</td>\n",
       "      <td>1118.0</td>\n",
       "      <td>-169.0</td>\n",
       "      <td>-399.0</td>\n",
       "      <td>-235.0</td>\n",
       "      <td>-307.0</td>\n",
       "    </tr>\n",
       "    <tr>\n",
       "      <th>2</th>\n",
       "      <td>104</td>\n",
       "      <td>0</td>\n",
       "      <td>971</td>\n",
       "      <td>0</td>\n",
       "      <td>0</td>\n",
       "      <td>0</td>\n",
       "      <td>0</td>\n",
       "      <td>315</td>\n",
       "      <td>0</td>\n",
       "      <td>0</td>\n",
       "      <td>...</td>\n",
       "      <td>466.0</td>\n",
       "      <td>194.0</td>\n",
       "      <td>916.0</td>\n",
       "      <td>1189.0</td>\n",
       "      <td>1222.0</td>\n",
       "      <td>1067.0</td>\n",
       "      <td>-136.0</td>\n",
       "      <td>-445.0</td>\n",
       "      <td>-408.0</td>\n",
       "      <td>-331.0</td>\n",
       "    </tr>\n",
       "    <tr>\n",
       "      <th>3</th>\n",
       "      <td>78</td>\n",
       "      <td>0</td>\n",
       "      <td>1171</td>\n",
       "      <td>0</td>\n",
       "      <td>0</td>\n",
       "      <td>0</td>\n",
       "      <td>0</td>\n",
       "      <td>277</td>\n",
       "      <td>0</td>\n",
       "      <td>0</td>\n",
       "      <td>...</td>\n",
       "      <td>536.0</td>\n",
       "      <td>78.0</td>\n",
       "      <td>949.0</td>\n",
       "      <td>1061.0</td>\n",
       "      <td>1187.0</td>\n",
       "      <td>969.0</td>\n",
       "      <td>-236.0</td>\n",
       "      <td>-364.0</td>\n",
       "      <td>-428.0</td>\n",
       "      <td>-346.0</td>\n",
       "    </tr>\n",
       "    <tr>\n",
       "      <th>4</th>\n",
       "      <td>68</td>\n",
       "      <td>0</td>\n",
       "      <td>1133</td>\n",
       "      <td>0</td>\n",
       "      <td>0</td>\n",
       "      <td>0</td>\n",
       "      <td>0</td>\n",
       "      <td>265</td>\n",
       "      <td>0</td>\n",
       "      <td>0</td>\n",
       "      <td>...</td>\n",
       "      <td>619.0</td>\n",
       "      <td>139.0</td>\n",
       "      <td>958.0</td>\n",
       "      <td>898.0</td>\n",
       "      <td>1201.0</td>\n",
       "      <td>927.0</td>\n",
       "      <td>-286.0</td>\n",
       "      <td>-169.0</td>\n",
       "      <td>-399.0</td>\n",
       "      <td>-235.0</td>\n",
       "    </tr>\n",
       "  </tbody>\n",
       "</table>\n",
       "<p>5 rows × 618 columns</p>\n",
       "</div>"
      ],
      "text/plain": [
       "   climate_vpd  area_ID_506  climate_aet  area_ID_475  area_ID_266  \\\n",
       "0           99            0          949            0            0   \n",
       "1          105            0          958            0            0   \n",
       "2          104            0          971            0            0   \n",
       "3           78            0         1171            0            0   \n",
       "4           68            0         1133            0            0   \n",
       "\n",
       "   area_ID_192  area_ID_21  climate_tmmx  area_ID_451  area_ID_187  ...  \\\n",
       "0            0           0           307            0            0  ...   \n",
       "1            0           0           313            0            0  ...   \n",
       "2            0           0           315            0            0  ...   \n",
       "3            0           0           277            0            0  ...   \n",
       "4            0           0           265            0            0  ...   \n",
       "\n",
       "   climate_soil_lag_9  climate_soil_lag_12  climate_aet_lag_3  \\\n",
       "0                78.0                212.0             1061.0   \n",
       "1               139.0                330.0              898.0   \n",
       "2               466.0                194.0              916.0   \n",
       "3               536.0                 78.0              949.0   \n",
       "4               619.0                139.0              958.0   \n",
       "\n",
       "   climate_aet_lag_6  climate_aet_lag_9  climate_aet_lag_12  \\\n",
       "0             1187.0              969.0              1146.0   \n",
       "1             1201.0              927.0              1118.0   \n",
       "2             1189.0             1222.0              1067.0   \n",
       "3             1061.0             1187.0               969.0   \n",
       "4              898.0             1201.0               927.0   \n",
       "\n",
       "   drought_index_lag_3  drought_index_lag_6  drought_index_lag_9  \\\n",
       "0               -364.0               -428.0               -346.0   \n",
       "1               -169.0               -399.0               -235.0   \n",
       "2               -136.0               -445.0               -408.0   \n",
       "3               -236.0               -364.0               -428.0   \n",
       "4               -286.0               -169.0               -399.0   \n",
       "\n",
       "   drought_index_lag_12  \n",
       "0                -377.0  \n",
       "1                -307.0  \n",
       "2                -331.0  \n",
       "3                -346.0  \n",
       "4                -235.0  \n",
       "\n",
       "[5 rows x 618 columns]"
      ]
     },
     "execution_count": 32,
     "metadata": {},
     "output_type": "execute_result"
    }
   ],
   "source": [
    "# And the test data\n",
    "test.head()"
   ]
  },
  {
   "cell_type": "code",
   "execution_count": null,
   "metadata": {
    "colab": {
     "base_uri": "https://localhost:8080/",
     "height": 206
    },
    "id": "HItSe6MCkyPB",
    "outputId": "e05dd9a1-5828-431d-aa05-d953e06f0d2b"
   },
   "outputs": [],
   "source": [
    "# So we need to predict the burn area for each row in test.\n",
    "\n",
    "# Add the same features to test as we did to train:\n",
    "test['month'] = test.date.dt.month\n",
    "test['year'] = test.date.dt.year\n",
    "\n",
    "# Get predictions\n",
    "preds = best_xgb_model.predict(test[in_cols].fillna(0)) # fillna(0) here could be improved by examining the missing data and filling more appropriately.\n",
    "\n",
    "# Add to submission dataframe\n",
    "ss['burn_area'] = preds\n",
    "\n",
    "# Depending on your model, you may have some predictions that don't make sense. Let's constrain our predictions to the range (0, 1)\n",
    "ss['burn_area'] = ss['burn_area'].clip(0, 1)\n",
    "\n",
    "# View\n",
    "ss.head()"
   ]
  },
  {
   "cell_type": "code",
   "execution_count": null,
   "metadata": {
    "id": "13Ns-f5blIEs"
   },
   "outputs": [],
   "source": [
    "# Save ready for submission:\n",
    "ss.to_csv('Fourth_submission.csv', index=False)"
   ]
  },
  {
   "cell_type": "markdown",
   "metadata": {
    "id": "OeyjG8-4mK7Y"
   },
   "source": [
    "# Tips for improving your score\n",
    "\n",
    "- Once you've chosen a model, you should re-train it on all the data (including that which you previously held back for validation) to give it the best chance of succeeding\n",
    "- There is a timeseries component to this challenge. Think about how to use this to improve your accuracy.\n",
    "- Spend some time on feature engineering. Since no external data is allowed for this challenge, the winning solution will be the one that gets the most out of the data provided."
   ]
  },
  {
   "cell_type": "code",
   "execution_count": null,
   "metadata": {
    "id": "yUuqtHNKnO3r"
   },
   "outputs": [],
   "source": []
  },
  {
   "cell_type": "code",
   "execution_count": null,
   "metadata": {
    "id": "9F_2aPYOtNs1"
   },
   "outputs": [],
   "source": []
  }
 ],
 "metadata": {
  "accelerator": "GPU",
  "colab": {
   "gpuType": "T4",
   "provenance": []
  },
  "kernelspec": {
   "display_name": "Python 3 (ipykernel)",
   "language": "python",
   "name": "python3"
  },
  "language_info": {
   "codemirror_mode": {
    "name": "ipython",
    "version": 3
   },
   "file_extension": ".py",
   "mimetype": "text/x-python",
   "name": "python",
   "nbconvert_exporter": "python",
   "pygments_lexer": "ipython3",
   "version": "3.12.3"
  }
 },
 "nbformat": 4,
 "nbformat_minor": 4
}
